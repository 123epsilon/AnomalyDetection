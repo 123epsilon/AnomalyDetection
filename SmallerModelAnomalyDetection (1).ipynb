{
  "nbformat": 4,
  "nbformat_minor": 0,
  "metadata": {
    "colab": {
      "name": "SmallerModelAnomalyDetection.ipynb",
      "provenance": [],
      "collapsed_sections": []
    },
    "kernelspec": {
      "name": "python3",
      "display_name": "Python 3"
    },
    "accelerator": "GPU"
  },
  "cells": [
    {
      "cell_type": "markdown",
      "metadata": {
        "id": "RFX5nIjsjQ5N"
      },
      "source": [
        "**Setup:**"
      ]
    },
    {
      "cell_type": "code",
      "metadata": {
        "id": "PoSlEjmiFM6g",
        "colab": {
          "base_uri": "https://localhost:8080/",
          "height": 34
        },
        "outputId": "137b7974-2f34-45e9-c201-2d394aafd20a"
      },
      "source": [
        "#Mount drive\n",
        "from google.colab import drive\n",
        "drive.mount('/content/drive')"
      ],
      "execution_count": null,
      "outputs": [
        {
          "output_type": "stream",
          "text": [
            "Drive already mounted at /content/drive; to attempt to forcibly remount, call drive.mount(\"/content/drive\", force_remount=True).\n"
          ],
          "name": "stdout"
        }
      ]
    },
    {
      "cell_type": "code",
      "metadata": {
        "id": "vqvfDr4kBKvH"
      },
      "source": [
        "!ls 'drive/My Drive/Anomaly Detection'"
      ],
      "execution_count": null,
      "outputs": []
    },
    {
      "cell_type": "code",
      "metadata": {
        "id": "0ERgC-Nny1jh",
        "colab": {
          "base_uri": "https://localhost:8080/",
          "height": 67
        },
        "outputId": "83c88c11-7d65-4217-ee82-82bf1f04afe4"
      },
      "source": [
        "!pip install pykeops"
      ],
      "execution_count": null,
      "outputs": [
        {
          "output_type": "stream",
          "text": [
            "Requirement already satisfied: pykeops in /usr/local/lib/python3.6/dist-packages (1.4.1)\n",
            "Requirement already satisfied: GPUtil in /usr/local/lib/python3.6/dist-packages (from pykeops) (1.4.0)\n",
            "Requirement already satisfied: numpy in /usr/local/lib/python3.6/dist-packages (from pykeops) (1.18.5)\n"
          ],
          "name": "stdout"
        }
      ]
    },
    {
      "cell_type": "code",
      "metadata": {
        "id": "DVGa72jIcuRf"
      },
      "source": [
        "#imports\n",
        "import torch\n",
        "from torch import nn\n",
        "import numpy as np\n",
        "import matplotlib.pyplot as plt\n",
        "from torchvision import datasets, transforms\n",
        "from PIL import Image\n",
        "import os\n",
        "#https://stackoverflow.com/questions/7569553/working-with-tiffs-import-export-in-python-using-numpy\n",
        "#https://stackoverflow.com/questions/49290266/python-matplotlib-histogram-specify-different-colours-for-different-bars"
      ],
      "execution_count": null,
      "outputs": []
    },
    {
      "cell_type": "code",
      "metadata": {
        "id": "BHOpZHYhdTBX"
      },
      "source": [
        "#https://colab.research.google.com/drive/1RacHDFpDvKPxN4brmGMnEY2454CW_Dds#scrollTo=QuOkHYcjU331\n",
        "#get data\n",
        "trans = transforms.Compose([    transforms.Grayscale(num_output_channels=1),\n",
        "                                transforms.ToTensor(),\n",
        "                                transforms.Normalize((0.5,), (0.5,)),\n",
        "                              ]) #grayscale and to [0,1]\n",
        "train_data = datasets.MNIST('.', train=True, download=True, transform=trans)\n",
        "trainloader = torch.utils.data.DataLoader(train_data, batch_size=100, shuffle=True)\n"
      ],
      "execution_count": null,
      "outputs": []
    },
    {
      "cell_type": "code",
      "metadata": {
        "id": "RMHQQ8zyhcIt",
        "colab": {
          "base_uri": "https://localhost:8080/",
          "height": 50
        },
        "outputId": "ae3c2d54-776c-4104-fd71-9ecdb28e3cfa"
      },
      "source": [
        "#check that loader gives correct dimensions\n",
        "examples = enumerate(trainloader)\n",
        "batch_idx, (example_data, example_targets) = next(examples)\n",
        "print(example_data.shape)\n",
        "print(example_data[0].shape)"
      ],
      "execution_count": null,
      "outputs": [
        {
          "output_type": "stream",
          "text": [
            "torch.Size([100, 1, 28, 28])\n",
            "torch.Size([1, 28, 28])\n"
          ],
          "name": "stdout"
        }
      ]
    },
    {
      "cell_type": "code",
      "metadata": {
        "id": "GDzD90Ofh_96",
        "colab": {
          "base_uri": "https://localhost:8080/",
          "height": 252
        },
        "outputId": "2db80968-1037-4d19-8289-81364aa9ecc9"
      },
      "source": [
        "#return figure object that displays the given image\n",
        "def show_digit(img):\n",
        "  fig = plt.figure()\n",
        "  plt.imshow(img, cmap='gray', interpolation='none')\n",
        "  plt.xticks([])\n",
        "  plt.yticks([])\n",
        "\n",
        "f = show_digit(example_data[63][0])\n",
        "f"
      ],
      "execution_count": null,
      "outputs": [
        {
          "output_type": "display_data",
          "data": {
            "image/png": "[encoded data removed]",
            "text/plain": [
              "<Figure size 432x288 with 1 Axes>"
            ]
          },
          "metadata": {
            "tags": []
          }
        }
      ]
    },
    {
      "cell_type": "markdown",
      "metadata": {
        "id": "WQ2Unp3yje5N"
      },
      "source": [
        "**Autoencoder model:**"
      ]
    },
    {
      "cell_type": "code",
      "metadata": {
        "id": "omdjrgJAjeW-"
      },
      "source": [
        "#https://adventuresinmachinelearning.com/convolutional-neural-networks-tutorial-in-pytorch/\n",
        "#https://www.datacamp.com/community/tutorials/autoencoder-classifier-python\n",
        "class AE(nn.Module):\n",
        "  def __init__(self):\n",
        "    super().__init__()\n",
        "    #encode\n",
        "    #input is 1 x 28 x 28\n",
        "    self.layer1 = nn.Sequential(\n",
        "        nn.Conv2d(1,32,3, padding=1),  #32 x 28 x 28\n",
        "        nn.ReLU(),\n",
        "        nn.MaxPool2d(2,2) #32 x 14 x 14\n",
        "    )\n",
        "    self.layer2 = nn.Sequential(\n",
        "        nn.Conv2d(32,16,3, padding=1), #16 x 14 x 14 \n",
        "        nn.ReLU(),\n",
        "        nn.MaxPool2d(2,2) #16 x 7 x 7\n",
        "    )\n",
        "    self.layer3 = nn.Sequential(\n",
        "        nn.Conv2d(16,8,3, padding=1),  #8 x 7 x 7\n",
        "        nn.ReLU(),\n",
        "        nn.Conv2d(8,8,3, padding=1), #8 x 7 x 7\n",
        "        nn.ReLU()\n",
        "    )\n",
        "    #decode\n",
        "    self.layer4 = nn.Sequential(\n",
        "        nn.Conv2d(8,8,3, padding=1), #8 x 7 x 7\n",
        "        nn.ReLU()\n",
        "    )\n",
        "    self.layer5 = nn.Sequential(\n",
        "        nn.Conv2d(8,8,3, padding=1),  #8 x 7 x 7\n",
        "        nn.ReLU(),\n",
        "        nn.Upsample(scale_factor=2) #8 x 14 x 14\n",
        "    )\n",
        "    self.layer6 = nn.Sequential(\n",
        "        nn.Conv2d(8,8,3, padding=1), #8 x 14 x 14\n",
        "        nn.ReLU(),\n",
        "        nn.Upsample(scale_factor=2),  #8 x 28 x 28\n",
        "        nn.Conv2d(8,1,3, padding=1) #1 x 28 x 28\n",
        "    )\n",
        "\n",
        "  def forward(self, x):\n",
        "    out = self.layer1(x)\n",
        "    out = self.layer2(out)\n",
        "    out = self.layer3(out)\n",
        "    out = self.layer4(out)\n",
        "    out = self.layer5(out)\n",
        "    out = self.layer6(out)\n",
        "\n",
        "    return out\n",
        "\n",
        "  #to extract latent layers later\n",
        "  def extract_latent(self, x):\n",
        "    out = self.layer1(x)\n",
        "    out = self.layer2(out)\n",
        "    out = self.layer3(out)\n",
        "\n",
        "    return out\n",
        "\n",
        "  def extract_all(self, x):\n",
        "    res = []\n",
        "    out = self.layer1(x)\n",
        "    res.append(out)\n",
        "    out = self.layer2(out)\n",
        "    res.append(out)\n",
        "    out = self.layer3(out)\n",
        "    res.append(out)\n",
        "    out = self.layer4(out)\n",
        "    res.append(out)\n",
        "    out = self.layer5(out)\n",
        "    res.append(out)\n",
        "    \n",
        "    return res\n",
        "\n"
      ],
      "execution_count": null,
      "outputs": []
    },
    {
      "cell_type": "markdown",
      "metadata": {
        "id": "WtB0n7FVAvu7"
      },
      "source": [
        "**Training for Reconstruction**\n"
      ]
    },
    {
      "cell_type": "code",
      "metadata": {
        "id": "pdhNU_MjAtrY"
      },
      "source": [
        "device = torch.device(\"cuda\" if torch.cuda.is_available() else \"cpu\")\n",
        "if(device.type == \"cuda\"):\n",
        "  print(\"Training on GPU\")\n",
        "else:\n",
        "  print(\"Training on CPU\")\n",
        "model = AE().to(device)\n",
        "criterion = nn.MSELoss()\n",
        "optimizer = torch.optim.Adam(model.parameters(), lr=0.001)\n",
        "'''\n",
        "num_epochs = 5\n",
        "num_classes = 10\n",
        "batch_size = 100\n",
        "learning_rate = 0.001\n",
        "'''\n",
        "losses = []\n",
        "i = 0\n",
        "for epoch in range(5):\n",
        "  i+=1\n",
        "  for images, labels in trainloader:\n",
        "    if(device.type == \"cuda\"):  #convert from torch.floattensor to torch.cuda.floattensor\n",
        "      images = images.cuda()\n",
        "    out = model(images)\n",
        "    loss = criterion(out, images) #loss based on similarity to input\n",
        "    losses.append(loss.item())\n",
        "\n",
        "    optimizer.zero_grad()\n",
        "    loss.backward()\n",
        "    optimizer.step()\n",
        "\n",
        "    print('Epoch {}/{}, Loss: {:.6f}'.format(i, 5, loss.item()))\n",
        "\n"
      ],
      "execution_count": null,
      "outputs": []
    },
    {
      "cell_type": "markdown",
      "metadata": {
        "id": "wgi0w-ZBUgLw"
      },
      "source": [
        "**Plot for Loss**"
      ]
    },
    {
      "cell_type": "code",
      "metadata": {
        "id": "YLunzpExWW65",
        "colab": {
          "base_uri": "https://localhost:8080/",
          "height": 282
        },
        "outputId": "d5cce1ad-8c47-4818-bd0e-913bbb21d658"
      },
      "source": [
        "plt.plot(range(3000), losses)"
      ],
      "execution_count": null,
      "outputs": [
        {
          "output_type": "execute_result",
          "data": {
            "text/plain": [
              "[<matplotlib.lines.Line2D at 0x7f232ccdc208>]"
            ]
          },
          "metadata": {
            "tags": []
          },
          "execution_count": 10
        },
        {
          "output_type": "display_data",
          "data": {
            "image/png": "[encoded data removed]",
            "text/plain": [
              "<Figure size 432x288 with 1 Axes>"
            ]
          },
          "metadata": {
            "tags": [],
            "needs_background": "light"
          }
        }
      ]
    },
    {
      "cell_type": "code",
      "metadata": {
        "id": "_L1DGuByQ_i5",
        "colab": {
          "base_uri": "https://localhost:8080/",
          "height": 269
        },
        "outputId": "0b95ba8b-abb4-4583-abed-42c2fc4ad3f1"
      },
      "source": [
        "d = enumerate(trainloader)\n",
        "idx, (img, label) = next(d)\n",
        "print(img[0][0].shape)\n",
        "show_digit(img[0][0])"
      ],
      "execution_count": null,
      "outputs": [
        {
          "output_type": "stream",
          "text": [
            "torch.Size([28, 28])\n"
          ],
          "name": "stdout"
        },
        {
          "output_type": "display_data",
          "data": {
            "image/png": "[encoded data removed]",
            "text/plain": [
              "<Figure size 432x288 with 1 Axes>"
            ]
          },
          "metadata": {
            "tags": []
          }
        }
      ]
    },
    {
      "cell_type": "code",
      "metadata": {
        "id": "k4Ho8bBVSEnQ",
        "colab": {
          "base_uri": "https://localhost:8080/",
          "height": 282
        },
        "outputId": "030e97a0-d6ed-4a19-d342-6a72e31b3e51"
      },
      "source": [
        "#tensor gymnastics in order predict a single sample\n",
        "plt.imshow(model(img[0].view(-1,1,28,28).cuda()).cpu().detach().numpy()[0][0], cmap=plt.get_cmap('gray'))"
      ],
      "execution_count": null,
      "outputs": [
        {
          "output_type": "execute_result",
          "data": {
            "text/plain": [
              "<matplotlib.image.AxesImage at 0x7f23257db4a8>"
            ]
          },
          "metadata": {
            "tags": []
          },
          "execution_count": 12
        },
        {
          "output_type": "display_data",
          "data": {
            "image/png": "[encoded data removed]",
            "text/plain": [
              "<Figure size 432x288 with 1 Axes>"
            ]
          },
          "metadata": {
            "tags": [],
            "needs_background": "light"
          }
        }
      ]
    },
    {
      "cell_type": "markdown",
      "metadata": {
        "id": "wqEmeCAPU4WD"
      },
      "source": [
        "**Anomaly Detection**"
      ]
    },
    {
      "cell_type": "code",
      "metadata": {
        "id": "tdgfcrJMWdqs"
      },
      "source": [
        "test_data = datasets.MNIST('.', train=False, download=True, transform=trans)\n",
        "testloader = torch.utils.data.DataLoader(test_data, batch_size=100, shuffle=True)"
      ],
      "execution_count": null,
      "outputs": []
    },
    {
      "cell_type": "code",
      "metadata": {
        "id": "b0dbZoPOWw-f"
      },
      "source": [
        "mses = []\n",
        "for epoch in range(5):\n",
        "  for images, labels in testloader:\n",
        "    if(device.type == \"cuda\"):\n",
        "      images = images.cuda()\n",
        "    out = model(images)\n",
        "    loss = criterion(out, images)\n",
        "    mses.append(loss.item())"
      ],
      "execution_count": null,
      "outputs": []
    },
    {
      "cell_type": "code",
      "metadata": {
        "id": "MOfVjpYAXg_V",
        "colab": {
          "base_uri": "https://localhost:8080/",
          "height": 349
        },
        "outputId": "e4b99a3b-625c-478f-f562-d4e391834dc5"
      },
      "source": [
        "plt.hist(mses)#, range=[0.01,0.018])"
      ],
      "execution_count": null,
      "outputs": [
        {
          "output_type": "execute_result",
          "data": {
            "text/plain": [
              "(array([  2.,   8.,  25.,  54., 117., 117.,  96.,  57.,  19.,   5.]),\n",
              " array([0.0274684 , 0.02813943, 0.02881045, 0.02948148, 0.03015251,\n",
              "        0.03082353, 0.03149456, 0.03216558, 0.03283661, 0.03350764,\n",
              "        0.03417866]),\n",
              " <a list of 10 Patch objects>)"
            ]
          },
          "metadata": {
            "tags": []
          },
          "execution_count": 15
        },
        {
          "output_type": "display_data",
          "data": {
            "image/png": "[encoded data removed]",
            "text/plain": [
              "<Figure size 432x288 with 1 Axes>"
            ]
          },
          "metadata": {
            "tags": [],
            "needs_background": "light"
          }
        }
      ]
    },
    {
      "cell_type": "code",
      "metadata": {
        "id": "k0rBtPnzRjhe"
      },
      "source": [
        "from scipy.io import loadmat\n",
        "p = 'drive/My Drive/Anomaly Detection/'\n",
        "garbage_mats = []\n",
        "#x = loadmat('drive/My Drive/Anomaly Detection/BD0_201-300.mat')\n",
        "mats = [file for file in os.listdir(p) if '.mat' in file]\n",
        "for f in mats:\n",
        "  for img_arr in loadmat(p+f)['images']:\n",
        "    for img in img_arr:\n",
        "      #print(img.shape)\n",
        "      garbage_mats.append(np.array(Image.fromarray(img, 'L').resize((28,28))))  #in order to view garbage_mats[i] --> Image.fromarray(garbage_mats[i]*255) as pixel intensity is low"
      ],
      "execution_count": null,
      "outputs": []
    },
    {
      "cell_type": "code",
      "metadata": {
        "id": "0oFhNJ_HS5qc",
        "colab": {
          "base_uri": "https://localhost:8080/",
          "height": 45
        },
        "outputId": "713996f5-1d90-4d1b-9cab-9510d62998c7"
      },
      "source": [
        "Image.fromarray(garbage_mats[120]*255)"
      ],
      "execution_count": null,
      "outputs": [
        {
          "output_type": "execute_result",
          "data": {
            "image/png": "[encoded data removed]",
            "text/plain": [
              "<PIL.Image.Image image mode=L size=28x28 at 0x7F23257447B8>"
            ]
          },
          "metadata": {
            "tags": []
          },
          "execution_count": 17
        }
      ]
    },
    {
      "cell_type": "code",
      "metadata": {
        "id": "aRRJWQgpZIOa",
        "colab": {
          "base_uri": "https://localhost:8080/",
          "height": 119
        },
        "outputId": "d5bf7e3f-6e61-427f-8bd6-c0583476b9cd"
      },
      "source": [
        "'''#Load garbage tiffs\n",
        "garbage = []\n",
        "gimgs = []\n",
        "p = 'drive/My Drive/Anomaly Detection/'\n",
        "\"\"\"garbage.append(torch.from_numpy(np.array(Image.open('drive/My Drive/Anomaly Detection/Garbage3.tiff').convert('L').resize((28,28)))).float().to(device)/255)\n",
        "gimgs.append(Image.open('drive/My Drive/Anomaly Detection/Garbage3.tiff').convert('L').resize((28,28)))\n",
        "\n",
        "for i in range(9,14):\n",
        "  p = 'drive/My Drive/Anomaly Detection/Garbage' + str(i) + '.tiff'\n",
        "  garbage.append(torch.from_numpy(np.array(Image.open(p).convert('L').resize((28,28)))).float().to(device)/255)\n",
        "  gimgs.append(Image.open(p).convert('L').resize((28,28)))\"\"\"\n",
        "\n",
        "gfiles = [file for file in os.listdir(p) if '.tiff' in file]\n",
        "for file in gfiles:\n",
        "  garbage.append(torch.from_numpy(np.array(Image.open(p+file).convert('L').resize((28,28)))).float().to(device)/255)\n",
        "  gimgs.append(Image.open(p+file).convert('L').resize((28,28)))'''"
      ],
      "execution_count": null,
      "outputs": [
        {
          "output_type": "execute_result",
          "data": {
            "application/vnd.google.colaboratory.intrinsic+json": {
              "type": "string"
            },
            "text/plain": [
              "'#Load garbage tiffs\\ngarbage = []\\ngimgs = []\\np = \\'drive/My Drive/Anomaly Detection/\\'\\n\"\"\"garbage.append(torch.from_numpy(np.array(Image.open(\\'drive/My Drive/Anomaly Detection/Garbage3.tiff\\').convert(\\'L\\').resize((28,28)))).float().to(device)/255)\\ngimgs.append(Image.open(\\'drive/My Drive/Anomaly Detection/Garbage3.tiff\\').convert(\\'L\\').resize((28,28)))\\n\\nfor i in range(9,14):\\n  p = \\'drive/My Drive/Anomaly Detection/Garbage\\' + str(i) + \\'.tiff\\'\\n  garbage.append(torch.from_numpy(np.array(Image.open(p).convert(\\'L\\').resize((28,28)))).float().to(device)/255)\\n  gimgs.append(Image.open(p).convert(\\'L\\').resize((28,28)))\"\"\"\\n\\ngfiles = [file for file in os.listdir(p) if \\'.tiff\\' in file]\\nfor file in gfiles:\\n  garbage.append(torch.from_numpy(np.array(Image.open(p+file).convert(\\'L\\').resize((28,28)))).float().to(device)/255)\\n  gimgs.append(Image.open(p+file).convert(\\'L\\').resize((28,28)))'"
            ]
          },
          "metadata": {
            "tags": []
          },
          "execution_count": 18
        }
      ]
    },
    {
      "cell_type": "code",
      "metadata": {
        "id": "f3sVyHO9Zl85",
        "colab": {
          "base_uri": "https://localhost:8080/",
          "height": 35
        },
        "outputId": "2c2667d2-6a67-48a5-d5bf-c97e4fd8c031"
      },
      "source": [
        "'''plt.tight_layout()\n",
        "for im in gimgs:\n",
        "  plt.figure()\n",
        "  plt.imshow(im, cmap=plt.get_cmap('gray'))'''"
      ],
      "execution_count": null,
      "outputs": [
        {
          "output_type": "execute_result",
          "data": {
            "application/vnd.google.colaboratory.intrinsic+json": {
              "type": "string"
            },
            "text/plain": [
              "\"plt.tight_layout()\\nfor im in gimgs:\\n  plt.figure()\\n  plt.imshow(im, cmap=plt.get_cmap('gray'))\""
            ]
          },
          "metadata": {
            "tags": []
          },
          "execution_count": 19
        }
      ]
    },
    {
      "cell_type": "code",
      "metadata": {
        "id": "miu4rKceb5nE"
      },
      "source": [
        "#mats -> torch tensors\n",
        "garbage = [torch.from_numpy(img).float().to(device) for img in garbage_mats]\n",
        "\n",
        "#resize garbage images to proper input dimensions (1 x 28 x 28)\n",
        "#add a dimension as pytorch expects one\n",
        "for i in range(len(garbage)):\n",
        "  garbage[i] = garbage[i].view(1,1,28,28)"
      ],
      "execution_count": null,
      "outputs": []
    },
    {
      "cell_type": "code",
      "metadata": {
        "id": "5j0bhbQm2OCt",
        "colab": {
          "base_uri": "https://localhost:8080/",
          "height": 34
        },
        "outputId": "71a80464-940e-4af6-bd5a-c51dec6e3c6b"
      },
      "source": [
        "len(garbage)"
      ],
      "execution_count": null,
      "outputs": [
        {
          "output_type": "execute_result",
          "data": {
            "text/plain": [
              "451"
            ]
          },
          "metadata": {
            "tags": []
          },
          "execution_count": 21
        }
      ]
    },
    {
      "cell_type": "code",
      "metadata": {
        "id": "Zbo3KTOVJ6aP"
      },
      "source": [
        "for i in range(len(garbage)):\n",
        "  o = model(garbage[i])\n",
        "  loss = criterion(o,garbage[i])\n",
        "  mses.append(loss.item())"
      ],
      "execution_count": null,
      "outputs": []
    },
    {
      "cell_type": "markdown",
      "metadata": {
        "id": "z7nJXJn8s98n"
      },
      "source": [
        "**In the plot below we see the real sample MSEs (blue) as well as the garbage sample MSEs (orange)**"
      ]
    },
    {
      "cell_type": "code",
      "metadata": {
        "id": "LEApJs21TMhc",
        "colab": {
          "base_uri": "https://localhost:8080/",
          "height": 349
        },
        "outputId": "4bccb9ef-5ad9-4627-9a2d-ff6388d2ff09"
      },
      "source": [
        "plt.hist(mses[:len(mses)-len(garbage)])\n",
        "plt.hist(mses[len(mses)-len(garbage):])\n",
        "#mses[len(mses)-len(garbage):]"
      ],
      "execution_count": null,
      "outputs": [
        {
          "output_type": "execute_result",
          "data": {
            "text/plain": [
              "(array([ 11.,  54., 115., 132.,  76.,  31.,  20.,   9.,   1.,   2.]),\n",
              " array([0.17423676, 0.20552381, 0.23681086, 0.26809791, 0.29938495,\n",
              "        0.330672  , 0.36195905, 0.3932461 , 0.42453315, 0.4558202 ,\n",
              "        0.48710725]),\n",
              " <a list of 10 Patch objects>)"
            ]
          },
          "metadata": {
            "tags": []
          },
          "execution_count": 23
        },
        {
          "output_type": "display_data",
          "data": {
            "image/png": "[encoded data removed]",
            "text/plain": [
              "<Figure size 432x288 with 1 Axes>"
            ]
          },
          "metadata": {
            "tags": [],
            "needs_background": "light"
          }
        }
      ]
    },
    {
      "cell_type": "code",
      "metadata": {
        "id": "p2w_FCRf_6U0",
        "colab": {
          "base_uri": "https://localhost:8080/",
          "height": 50
        },
        "outputId": "2c5b40c7-70e6-4ba5-f532-57a755dba3fd"
      },
      "source": [
        "print(\"Real Loss Range: \" + str(min(mses[:len(mses)-len(garbage)])) + \" - \" + str(max(mses[:len(mses)-len(garbage)])))\n",
        "print(\"Garbage Loss Range: \" + str(min(mses[len(mses)-len(garbage):])) + \" - \" + str(max(mses[len(mses)-len(garbage):])))"
      ],
      "execution_count": null,
      "outputs": [
        {
          "output_type": "stream",
          "text": [
            "Real Loss Range: 0.027468401938676834 - 0.03417866304516792\n",
            "Garbage Loss Range: 0.17423675954341888 - 0.4871072471141815\n"
          ],
          "name": "stdout"
        }
      ]
    },
    {
      "cell_type": "code",
      "metadata": {
        "id": "1OEuppGi1KAT",
        "colab": {
          "base_uri": "https://localhost:8080/",
          "height": 84
        },
        "outputId": "c670a91b-5cd2-4b9b-f38b-0a374cf672cc"
      },
      "source": [
        "#ideal separation: if we considered the true sets of inliers and outliers\n",
        "c = mses[:len(mses)-len(garbage)]\n",
        "o = mses[len(mses)-len(garbage):]\n",
        "c_avg = sum(c) / len(c)\n",
        "c_var = sum((x-c_avg)**2 for x in c) / len(c)\n",
        "o_avg = sum(o) / len(o)\n",
        "o_var = sum((x-o_avg)**2 for x in o) / len(o)\n",
        "\n",
        "ideal_separation = (c_avg - o_avg)**2 / (c_var + o_var)\n",
        "\n",
        "#separatation after applying a threshold\n",
        "threshold = 0.05\n",
        "n_out_rejected = 0\n",
        "n_in_rejected = 0\n",
        "inliers, outliers = [], []\n",
        "\n",
        "for i in range(len(mses)):\n",
        "  if mses[i] > threshold:\n",
        "    outliers.append(mses[i])\n",
        "    if i < len(mses)-len(garbage):\n",
        "      n_in_rejected += 1\n",
        "    else:\n",
        "      n_out_rejected += 1\n",
        "  else:\n",
        "    inliers.append(mses[i])\n",
        "\n",
        "in_avg = sum(inliers) / len(inliers)\n",
        "in_var = sum((x-in_avg)**2 for x in inliers) / len(inliers)\n",
        "ot_avg = sum(outliers) / len(outliers)\n",
        "ot_var = sum((x-ot_avg)**2 for x in outliers) / len(outliers)\n",
        "\n",
        "separation = (in_avg - ot_avg)**2 / (in_var + ot_var)\n",
        "\n",
        "print(\"IDEAL SEPARATION: \" + str(ideal_separation))\n",
        "print(\"SEPARATION: \" + str(separation))\n",
        "print(\"% Outliers Rejected: \" + str(n_out_rejected/len(o)))\n",
        "print(\"% Inliers Rejected: \" + str(n_in_rejected/len(c)))"
      ],
      "execution_count": null,
      "outputs": [
        {
          "output_type": "stream",
          "text": [
            "IDEAL SEPARATION: 29.013783958110515\n",
            "SEPARATION: 29.013783958110515\n",
            "% Outliers Rejected: 1.0\n",
            "% Inliers Rejected: 0.0\n"
          ],
          "name": "stdout"
        }
      ]
    },
    {
      "cell_type": "markdown",
      "metadata": {
        "id": "TS7gUQdZWtak"
      },
      "source": [
        "The above histogram shows how distinct the error readings for garbage samples (orange) are from real data (blue), making it simple to identify outliers."
      ]
    },
    {
      "cell_type": "markdown",
      "metadata": {
        "id": "kJM9BqcKgASp"
      },
      "source": [
        "**Latent Variable Analysis**"
      ]
    },
    {
      "cell_type": "code",
      "metadata": {
        "id": "Sfd6f-j1f-6v"
      },
      "source": [
        "#100 batches of 100 outputs w/ 256x7x7 shape\n",
        "latent_var_testset = []\n",
        "for images, labels in testloader:\n",
        "    if(device.type == \"cuda\"):\n",
        "      images = images.cuda()\n",
        "    out = model(images)\n",
        "    loss = criterion(out, images)\n",
        "    latent_var_testset.append(model.extract_latent(images))"
      ],
      "execution_count": null,
      "outputs": []
    },
    {
      "cell_type": "code",
      "metadata": {
        "id": "yJEhppz5qlns"
      },
      "source": [
        "latent_vars = []\n",
        "for i in range(len(latent_var_testset)):\n",
        "  for j in range(100):\n",
        "    latent_vars.append(torch.flatten(latent_var_testset[i][j]))"
      ],
      "execution_count": null,
      "outputs": []
    },
    {
      "cell_type": "code",
      "metadata": {
        "id": "y6odhqmlt9JD"
      },
      "source": [
        "from sklearn.cluster import KMeans"
      ],
      "execution_count": null,
      "outputs": []
    },
    {
      "cell_type": "code",
      "metadata": {
        "id": "k034k1ouzGH1"
      },
      "source": [
        "for i in range(len(latent_vars)):\n",
        "  latent_vars[i] = latent_vars[i].cpu().detach().numpy()\n",
        "\n",
        "lv = np.array(latent_vars)"
      ],
      "execution_count": null,
      "outputs": []
    },
    {
      "cell_type": "code",
      "metadata": {
        "id": "jeOwtGGtsLsD"
      },
      "source": [
        "#get latent vars for garbage values\n",
        "glv = []\n",
        "for i in range(len(garbage)):\n",
        "  glv.append(torch.flatten(model.extract_latent(garbage[i])))\n",
        "\n",
        "for i in range(len(glv)):\n",
        "  glv[i] = glv[i].cpu().detach().numpy()\n",
        "\n",
        "glv = np.array(glv)"
      ],
      "execution_count": null,
      "outputs": []
    },
    {
      "cell_type": "code",
      "metadata": {
        "id": "uYMgZgME1Xfc"
      },
      "source": [
        "kmeans = KMeans(n_clusters=5).fit(lv)"
      ],
      "execution_count": null,
      "outputs": []
    },
    {
      "cell_type": "code",
      "metadata": {
        "id": "Ld6Cb4InG3KN",
        "colab": {
          "base_uri": "https://localhost:8080/",
          "height": 34
        },
        "outputId": "8d461e5a-8f84-4403-bcd5-712f1b6d42ec"
      },
      "source": [
        "lv.shape"
      ],
      "execution_count": null,
      "outputs": [
        {
          "output_type": "execute_result",
          "data": {
            "text/plain": [
              "(10000, 392)"
            ]
          },
          "metadata": {
            "tags": []
          },
          "execution_count": 32
        }
      ]
    },
    {
      "cell_type": "code",
      "metadata": {
        "id": "JKNBA7jXZUqR"
      },
      "source": [
        "from scipy.spatial import distance"
      ],
      "execution_count": null,
      "outputs": []
    },
    {
      "cell_type": "code",
      "metadata": {
        "id": "k44dIQM1qjiQ"
      },
      "source": [
        "#compute distance to closest cluster center for real and garbage examples\n",
        "real_distances = []\n",
        "centers = kmeans.cluster_centers_\n",
        "for i in range(len(lv)):\n",
        "  d = []\n",
        "  for j in range(len(centers)):\n",
        "    d.append(distance.euclidean(centers[j], lv[i]))\n",
        "\n",
        "  real_distances.append(min(d))\n",
        "\n",
        "garbage_distances = []\n",
        "for i in range(len(glv)):\n",
        "  d = []\n",
        "  for j in range(len(centers)):\n",
        "    d.append(distance.euclidean(centers[j], glv[i]))\n",
        "\n",
        "  garbage_distances.append(min(d))"
      ],
      "execution_count": null,
      "outputs": []
    },
    {
      "cell_type": "markdown",
      "metadata": {
        "id": "rJcb-IjqC2Hx"
      },
      "source": [
        "Below is the histogram of distances from the nearest centroid for each data point measured, including garbage values. The garbage values are in red, clearly distinct from the main distribution of distance values."
      ]
    },
    {
      "cell_type": "code",
      "metadata": {
        "id": "COJ-VMK5xznU",
        "colab": {
          "base_uri": "https://localhost:8080/",
          "height": 366
        },
        "outputId": "941aeb0d-df0c-418a-ab58-222ed1f9b06a"
      },
      "source": [
        "fig, ax = plt.subplots()\n",
        "N, bins, patches = ax.hist(real_distances, color='blue')\n",
        "ax.hist(garbage_distances*1000, color='red')  #multiplied the list by 1000 in order to show on graph - low frequency of each value is due to the small set of garbage data"
      ],
      "execution_count": null,
      "outputs": [
        {
          "output_type": "execute_result",
          "data": {
            "text/plain": [
              "(array([ 41000., 169000., 117000.,  57000.,  22000.,  21000.,  10000.,\n",
              "          7000.,   5000.,   2000.]),\n",
              " array([40.29502487, 40.80113106, 41.30723724, 41.81334343, 42.31944962,\n",
              "        42.8255558 , 43.33166199, 43.83776817, 44.34387436, 44.84998055,\n",
              "        45.35608673]),\n",
              " <a list of 10 Patch objects>)"
            ]
          },
          "metadata": {
            "tags": []
          },
          "execution_count": 35
        },
        {
          "output_type": "display_data",
          "data": {
            "image/png": "[encoded data removed]",
            "text/plain": [
              "<Figure size 432x288 with 1 Axes>"
            ]
          },
          "metadata": {
            "tags": [],
            "needs_background": "light"
          }
        }
      ]
    },
    {
      "cell_type": "code",
      "metadata": {
        "id": "Ek8YY9Ze-uX-"
      },
      "source": [
        "#clear some gpu memory for following operations\n",
        "del latent_var_testset\n",
        "torch.cuda.empty_cache()"
      ],
      "execution_count": null,
      "outputs": []
    },
    {
      "cell_type": "markdown",
      "metadata": {
        "id": "GsQ3mQtAk3G1"
      },
      "source": [
        "**Layer By Layer Analysis**"
      ]
    },
    {
      "cell_type": "markdown",
      "metadata": {
        "id": "b_tMtDaV2r7E"
      },
      "source": [
        "Here we cluster points based on the vectors produced at each layer and plot only the lowest distance for each example from the nearest centroid for each layer."
      ]
    },
    {
      "cell_type": "code",
      "metadata": {
        "id": "4m2iG12Pk7Hf"
      },
      "source": [
        "real_all_layers = []\n",
        "for images, labels in testloader:\n",
        "    if(device.type == \"cuda\"):\n",
        "      images = images.cuda()\n",
        "    out = model(images)\n",
        "    loss = criterion(out, images)\n",
        "    real_all_layers.append(model.extract_all(images))"
      ],
      "execution_count": null,
      "outputs": []
    },
    {
      "cell_type": "code",
      "metadata": {
        "id": "y1cT0g2qCbO6"
      },
      "source": [
        "lyrs = [[],[],[],[],[]]\n",
        "for i in range(len(real_all_layers)):\n",
        "  for j in range(len(real_all_layers[i])):\n",
        "    lyrs[j].append(torch.flatten(real_all_layers[i][j]).cpu().detach().numpy())"
      ],
      "execution_count": null,
      "outputs": []
    },
    {
      "cell_type": "code",
      "metadata": {
        "id": "h45NgFCbFkiq"
      },
      "source": [
        "for i in range(len(lyrs)):\n",
        "  lyrs[i] = np.array(lyrs[i])"
      ],
      "execution_count": null,
      "outputs": []
    },
    {
      "cell_type": "code",
      "metadata": {
        "id": "lS9QfVX5H5H2",
        "colab": {
          "base_uri": "https://localhost:8080/",
          "height": 34
        },
        "outputId": "a73da9bb-8b90-4b83-fb11-29e3485dff38"
      },
      "source": [
        "lyrs[0].shape"
      ],
      "execution_count": null,
      "outputs": [
        {
          "output_type": "execute_result",
          "data": {
            "text/plain": [
              "(100, 627200)"
            ]
          },
          "metadata": {
            "tags": []
          },
          "execution_count": 43
        }
      ]
    },
    {
      "cell_type": "code",
      "metadata": {
        "id": "ez7kr_hrEmJm"
      },
      "source": [
        "kmean = []\n",
        "for i in range(len(lyrs)):\n",
        "  k = KMeans(n_clusters=5).fit(lyrs[i])\n",
        "  kmean.append(k)"
      ],
      "execution_count": null,
      "outputs": []
    },
    {
      "cell_type": "code",
      "metadata": {
        "id": "dfOUSzgmJJ_u"
      },
      "source": [
        "#get layers for garbage images\n",
        "gly = []\n",
        "for i in range(len(garbage)):\n",
        "  t = model.extract_all(garbage[i])\n",
        "  for j in range(len(t)):\n",
        "    t[j] = torch.flatten(t[j]).cpu().detach().numpy()\n",
        "  gly.append(t)\n",
        "#6,5,x"
      ],
      "execution_count": null,
      "outputs": []
    },
    {
      "cell_type": "code",
      "metadata": {
        "id": "vtzgAFgKmTzn"
      },
      "source": [
        "def dist(lyrs, centers):\n",
        "  distances = []\n",
        "  for i in range(len(lyrs)):\n",
        "    d = []\n",
        "    for j in range(len(centers)):\n",
        "      d.append(distance.euclidean(centers[j], lyrs[i]))\n",
        "\n",
        "    distances.append(min(d))\n",
        "  return distances"
      ],
      "execution_count": null,
      "outputs": []
    },
    {
      "cell_type": "code",
      "metadata": {
        "id": "5m44yI9eLKQa"
      },
      "source": [
        "real_min_dists = []\n",
        "for i in range(len(real_all_layers)):\n",
        "  l_d = []\n",
        "  \n",
        "  for lyr in range(len(real_all_layers[i])):\n",
        "    lyrdist = []\n",
        "    \n",
        "    for j in range(len(kmean[lyr].cluster_centers_)):\n",
        "      lyrdist.append(distance.euclidean(torch.flatten(real_all_layers[i][lyr]).cpu().detach().numpy(), kmean[lyr].cluster_centers_[j]))  #concat to list  \n",
        "    \n",
        "    l_d.append(min(lyrdist))\n",
        "  \n",
        "  real_min_dists.append(min(l_d))"
      ],
      "execution_count": null,
      "outputs": []
    },
    {
      "cell_type": "code",
      "metadata": {
        "id": "G2JiY9QchuwC"
      },
      "source": [
        "garbage_min_dists = []\n",
        "for i in range(len(gly)):\n",
        "  l_d = []\n",
        "  for lyr in range(len(gly[i])):\n",
        "    l_d = l_d + (dist(gly[i][lyr], kmean[lyr].cluster_centers_))\n",
        "  garbage_min_dists.append(min(l_d))"
      ],
      "execution_count": null,
      "outputs": []
    },
    {
      "cell_type": "markdown",
      "metadata": {
        "id": "EcgYttrx-e4m"
      },
      "source": [
        "Above we clustered the values in each layer for each real image, then we computed the distances from the closest centroid for each layer for each real and garbage image. We plotted the smallest of these distances for each image below.\n",
        "\n",
        "As the spread of the garbage values was not large it did not appear on the histogram, a more clear visual is the scatterplot below.\n",
        "\n",
        "The real values are in blue and the garbage values are in red."
      ]
    },
    {
      "cell_type": "code",
      "metadata": {
        "id": "lZYvfcLU4GeI",
        "colab": {
          "base_uri": "https://localhost:8080/",
          "height": 282
        },
        "outputId": "df00e129-248c-4ec4-b58f-428975694d25"
      },
      "source": [
        "plt.scatter(garbage_min_dists,range(0,len(garbage_min_dists)), color=\"red\")\n",
        "plt.scatter(real_min_dists, range(0, len(real_min_dists)), color=\"blue\")"
      ],
      "execution_count": null,
      "outputs": [
        {
          "output_type": "execute_result",
          "data": {
            "text/plain": [
              "<matplotlib.collections.PathCollection at 0x7f21e9ff7c50>"
            ]
          },
          "metadata": {
            "tags": []
          },
          "execution_count": 50
        },
        {
          "output_type": "display_data",
          "data": {
            "image/png": "[encoded data removed]",
            "text/plain": [
              "<Figure size 432x288 with 1 Axes>"
            ]
          },
          "metadata": {
            "tags": [],
            "needs_background": "light"
          }
        }
      ]
    }
  ]
}